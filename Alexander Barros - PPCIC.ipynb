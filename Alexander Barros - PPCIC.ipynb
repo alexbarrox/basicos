{
 "cells": [
  {
   "cell_type": "code",
   "execution_count": 1,
   "metadata": {},
   "outputs": [],
   "source": [
    "from collections import Counter\n",
    "import unicodedata\n",
    "import re\n",
    "import csv"
   ]
  },
  {
   "cell_type": "code",
   "execution_count": 16,
   "metadata": {},
   "outputs": [
    {
     "name": "stdout",
     "output_type": "stream",
     "text": [
      "['como', 'voce', 'pode', 'ver', 'uma', 'garotinha', 'esta', 'deitada', 'displicentemente', 'no', 'colo', 'de', 'um', 'senhor', 'bem', 'velhinho', 'e', 'bem', 'simpatico', 'ela', 'parece', 'um', 'anjo', 'loirinha', 'cabelo', 'castanhoclaro', 'encaracolado', 'nariz', 'e', 'boca', 'perfeitos', 'ar', 'inteligente', 'e', 'sadio', 'uma', 'dessas', 'criancas', 'que', 'a', 'gente', 've', 'em', 'anuncios', 'pelo', 'jeito', 'deve', 'ter', 'uns', 'tres', 'ou', 'quatro', 'anos', 'nao', 'mais', 'que', 'isso', 'ela', 'esta', 'vestida', 'num', 'desses', 'macaquinhos', 'de', 'flanela', 'com', 'florzinhas', 'azuis', 'e', 'vermelhas', 'e', 'uma', 'malha', 'creme', 'por', 'baixo', 'calcando', 'um', 'tenis', 'transadissimo', 'nas', 'discretas', 'cores', 'amarelo', 'vermelho', 'e', 'azul', 'o', 'que', 'nos', 'mostra', 'que', 'a', 'mocinha', 'nao', 'e', 'apenas', 'novinha', 'mas', 'moderninha', 'tambem', 'o', 'velhinho', 'tem', 'um', 'tipo', 'bem', 'italiano', 'o', 'bone', 'cinza', 'e', 'tipico', 'desses', 'senhores', 'que', 'a', 'gente', 've', 'passeando', 'pelo', 'bixiga', 'nos', 'domingos', 'a', 'tarde', 'estatura', 'mediana', 'cabelos', 'e', 'bigodes', 'branquinhos', 'rosto', 'e', 'maos', 'enrugadas', 'que', 'traem', 'uma', 'idade', 'bem', 'avancada', 'paleto', 'marrom', 'e', 'calca', 'cinza', 'ambos', 'de', 'la', 'malha', 'creme', 'abotoada', 'ate', 'o', 'ultimo', 'botao', 'como', 'faz', 'todo', 'senhor', 'que', 'se', 'preze', 'embaixo', 'da', 'malha', 'uma', 'camisa', 'azul', 'mas', 'bem', 'azul', 'mesmo', 'que', 'destoa', 'de', 'todo', 'o', 'conjunto', 'o', 'que', 'prova', 'que', 'o', 'cavalheiro', 'e', 'a', 'mocinha', 'apreciam', 'cores', 'fortes', 'pela', 'roupa', 'que', 'os', 'dois', 'estao', 'vestindo', 'e', 'pela', 'carinha', 'rosada', 'dela', 'deve', 'estar', 'fazendo', 'muito', 'frio', 'fato', 'que', 'o', 'ar', 'enevoado', 'e', 'cinzento', 'do', 'jardim', 'que', 'esta', 'atras', 'deles', 'vem', 'a', 'comprovar', 'os', 'dois', 'estao', 'sentados', 'num', 'balanco', 'de', 'madeira', 'de', 'cor', 'verde', 'desses', 'que', 'cabem', 'apenas', 'duas', 'pessoas', 'e', 'que', 'sao', 'bastante', 'comuns', 'em', 'quintais', 'varandas', 'e', 'jardins', 'de', 'casas', 'de', 'classe', 'media', 'classe', 'media', 'alta', 'ela', 'esta', 'comodamente', 'estirada', 'com', 'a', 'cabeca', 'entre', 'o', 'ombro', 'e', 'a', 'barriga', 'do', 'velhinho', 'e', 'os', 'pes', 'apoiados', 'numa', 'almofada', 'de', 'croche', 'de', 'cor', 'creme', 'nas', 'maos', 'ela', 'traz', 'um', 'livro', 'de', 'historias', 'cheio', 'de', 'desenhos', 'coloridos', 'livro', 'esse', 'que', 'olhando', 'atentamente', 'voce', 'vera', 'que', 'se', 'trata', 'da', 'historia', 'da', 'bela', 'adormecida', 'o', 'que', 'alias', 'e', 'muito', 'engracado', 'porque', 'enquanto', 'a', 'bela', 'conta', 'a', 'historia', 'da', 'bela', 'adormecida', 'o', 'velho', 'e', 'que', 'adormeceu', 'ele', 'dorme', 'a', 'sono', 'solto', 'com', 'uma', 'mao', 'envolta', 'na', 'dela', 'e', 'a', 'outra', 'apoiada', 'sobre', 'sua', 'propria', 'perna', 'direita', 'na', 'altura', 'do', 'joelho', 'ambos', 'a', 'sua', 'maneira', 'estao', 'sonhando', 'ele', 'sonha', 'dormindo', 'ela', 'sonha', 'acordada', 'o', 'jardim', 'atras', 'ligeiramente', 'desfocado', 'complementa', 'esse', 'clima', 'de', 'sonho', 'atras', 'do', 'balanco', 'verde', 'onde', 'os', 'dois', 'estao', 'sentados', 'vese', 'uma', 'cerca', 'de', 'madeira', 'tambem', 'verde', 'so', 'que', 'num', 'tom', 'mais', 'escuro', 'que', 'os', 'decoradores', 'costumam', 'chamar', 'de', 'verdeimperio', 'cor', 'alias', 'mais', 'que', 'apropriada', 'para', 'servir', 'de', 'fundo', 'a', 'essa', 'pequena', 'princesa', 'encantada', 'por', 'sua', 'historia', 'por', 'tras', 'do', 'vazado', 'da', 'cerca', 'verde', 'de', 'madeira', 'podemos', 'ver', 'um', 'jardim', 'bem', 'amplo', 'o', 'que', 'vem', 'a', 'reforcar', 'a', 'ideia', 'que', 'se', 'trata', 'de', 'uma', 'familia', 'de', 'posses', 'porque', 'ou', 'eles', 'tem', 'uma', 'casa', 'com', 'um', 'jardim', 'bem', 'amplo', 'na', 'cidade', 'ou', 'tem', 'uma', 'ampla', 'casa', 'de', 'campo', 'o', 'que', 'nos', 'dias', 'de', 'hoje', 'nao', 'e', 'luxo', 'para', 'qualquer', 'um', 'o', 'verde', 'la', 'fora', 'combinando', 'com', 'o', 'verdecana', 'do', 'balanco', 'e', 'o', 'verdeimperio', 'do', 'alambrado', 'cria', 'um', 'clima', 'gostoso', 'no', 'ambiente', 'mostrando', 'que', 'a', 'dona', 'da', 'casa', 'e', 'mais', 'cuidadosa', 'na', 'escolha', 'das', 'cores', 'que', 'a', 'mocinha', 'e', 'seu', 'cavalheiro', 'adormecido', 'a', 'presenca', 'de', 'plantas', 'tao', 'variadas', 'e', 'vicosas', 'nos', 'permite', 'pensar', 'que', 'ou', 'a', 'familia', 'tem', 'um', 'jardineiro', 'aplicado', 'ou', 'alguem', 'na', 'familia', 'gosta', 'muito', 'de', 'jardinagem', 'mas', 'isso', 'ja', 'e', 'divagacao', 'demais', 'e', 'ja', 'basta', 'a', 'menina', 'que', 'esta', 'divagando', 'no', 'colo', 'do', 'avo', 'isso', 'mesmo', 'do', 'avo', 'por', 'que', 'o', 'velho', 'que', 'voce', 'esta', 'vendo', 'so', 'pode', 'ser', 'o', 'avo', 'dela', 'pela', 'intimidade', 'com', 'que', 'ela', 'esta', 'comodamente', 'instalada', 'no', 'colo', 'dele', 'percebese', 'que', 'nao', 'pode', 'ser', 'visita', 'pessoa', 'de', 'cerimonia', 'e', 'sim', 'alguem', 'bem', 'chegado', 'alguem', 'da', 'familia', 'para', 'um', 'estranho', 'ouvir', 'essa', 'historia', 'contada', 'por', 'uma', 'criaturinha', 'tao', 'linda', 'seria', 'uma', 'novidade', 'excitante', 'que', 'dificilmente', 'o', 'faria', 'cair', 'no', 'sono', 'e', 'se', 'nao', 'fosse', 'por', 'isso', 'um', 'estranho', 'tambem', 'nao', 'cairia', 'no', 'sono', 'pelo', 'menos', 'por', 'dever', 'de', 'educacao', 'resistiria', 'bravamente', 'ate', 'a', 'bela', 'adormecida', 'acordar', 'alem', 'disso', 'e', 'so', 'olhar', 'para', 'a', 'roupa', 'caseira', 'que', 'ele', 'esta', 'usando', 'para', 'perceber', 'que', 'nao', 'e', 'alguem', 'que', 'foi', 'fazer', 'uma', 'visita', 'e', 'pessoa', 'da', 'casa', 'mesmo', 'pai', 'nao', 'e', 'ele', 'e', 'muito', 'velhinho', 'para', 'ser', 'o', 'pai', 'dela', 'e', 'pouco', 'provavelmente', 'seria', 'um', 'tio', 'tanto', 'pela', 'idade', 'quanto', 'pela', 'disponibilidade', 'e', 'paciencia', 'tio', 'da', 'doces', 'presentes', 'mas', 'ouvir', 'historias', 'interminaveis', 'contadas', 'por', 'uma', 'narradora', 'que', 'de', 'vez', 'em', 'quando', 'divaga', 'tio', 'nao', 'faz', 'so', 'pode', 'ser', 'mesmo', 'um', 'avo', 'ouvindo', 'pela', 'milesima', 'vez', 'a', 'mesma', 'historia', 'que', 'para', 'ele', 'deve', 'ser', 'sempre', 'igual', 'e', 'para', 'ela', 'deve', 'ser', 'sempre', 'diferente', 'ela', 'por', 'sua', 'vez', 'nao', 'deve', 'se', 'importar', 'que', 'seu', 'ouvinte', 'durma', 'afinal', 'ela', 'so', 'quer', 'colo', 'e', 'aquela', 'mao', 'terna', 'enrugada', 'e', 'querida', 'em', 'volta', 'da', 'sua', 'cintura', 'pequenina', 'mesmo', 'desatento', 'ele', 'esta', 'dando', 'a', 'ela', 'seu', 'tempo', 'e', 'seu', 'carinho', 'sonolento', 'porque', 'o', 'balanco', 'de', 'jardim', 'pode', 'ser', 'gostoso', 'de', 'sentar', 'mas', 'como', 'voce', 'pode', 'ver', 'nao', 'e', 'o', 'local', 'mais', 'confortavel', 'para', 'se', 'dormir', 'principalmente', 'num', 'dia', 'frio', 'como', 'esse', 'num', 'descampado', 'de', 'uma', 'varanda', 'mas', 'o', 'fato', 'e', 'que', 'ele', 'nao', 'sente', 'a', 'dureza', 'do', 'balanco', 'porque', 'dorme', 'e', 'ela', 'igualmente', 'nao', 'sente', 'a', 'dureza', 'da', 'madeira', 'e', 'a', 'frieza', 'do', 'tempo', 'por', 'varios', 'motivos', 'primeiro', 'porque', 'sonha', 'e', 'no', 'sonho', 'nao', 'ha', 'desconforto', 'ou', 'frio', 'e', 'segundo', 'porque', 'ela', 'tem', 'a', 'barriga', 'do', 'avo', 'como', 'travesseiro', 'o', 'braco', 'dele', 'como', 'edredom', 'e', 'uma', 'almofada', 'como', 'encosto', 'para', 'seus', 'pes', 'e', 'seu', 'tenis', 'multicolorido', 'juntos', 'os', 'dois', 'ali', 'na', 'varanda', 'vivem', 'um', 'momento', 'que', 'ela', 'vai', 'se', 'lembrar', 'sempre', 'e', 'ele', 'nao', 'vai', 'se', 'lembrar', 'de', 'nada', 'inclusive', 'nada', 'da', 'historia', 'por', 'isso', 'que', 'ela', 'vai', 'ter', 'que', 'contar', 'e', 'recontar', 'essa', 'historia', 'para', 'o', 'avo', 'centenas', 'de', 'vezes', 'principalmente', 'para', 'reviver', 'os', 'trechos', 'que', 'ele', 'perdeu', 'com', 'seus', 'cochilos', 'assim', 'como', 'voce', 'vai', 'ter', 'que', 'ler', 'e', 'reler', 'muitas', 'vezes', 'esse', 'texto', 'ate', 'conseguir', 'enxergar', 'toda', 'a', 'beleza', 'e', 'ternura', 'contidas', 'nessa', 'cena']\n",
      "\n",
      "\n",
      "Total de Palavras:  1000\n"
     ]
    }
   ],
   "source": [
    "texto = open('mil_palavras.txt', 'r', encoding='utf-8')\n",
    "lista = texto.readlines()\n",
    " \n",
    "# Função que remove acentuação das palavras\n",
    "def remove_normalized(string:str)->str:\n",
    "    normalized = unicodedata.normalize('NFKD',string)\n",
    "    return normalized.encode('ascii', 'ignore').decode('utf8').casefold().split()\n",
    "\n",
    "# Loop para remoção de pontuação e exibição das palavras já tratadas e separadas.     \n",
    "for string in lista:  \n",
    "    if __name__ == \"__main__\":\n",
    "        string = re.sub('[!-.:-@]', '', string)\n",
    "        normalizado = remove_normalized(string)\n",
    "        contagem = Counter(normalizado)\n",
    "        print(normalizado)\n",
    "        \n",
    "        print(\"\\n\")    \n",
    "        print(\"Total de Palavras: \", len(normalizado))\n",
    "\n",
    "# Criação do Arquivo tratado.csv e inserção dos dados no Arquivo\n",
    "c = Counter(normalizado)   \n",
    "with open('tratado.csv', 'w', newline='') as saida:\n",
    "    fieldnames = ['Termo', 'Frequência']\n",
    "    ocorrencia = csv.DictWriter(saida, fieldnames=fieldnames, delimiter=';')\n",
    "    ocorrencia.writeheader()\n",
    "    for palavras in c:\n",
    "        ocorrencia.writerow({\"Termo\": palavras, \"Frequência\": c[palavras]})\n"
   ]
  },
  {
   "cell_type": "code",
   "execution_count": null,
   "metadata": {},
   "outputs": [],
   "source": []
  }
 ],
 "metadata": {
  "kernelspec": {
   "display_name": "Python 3",
   "language": "python",
   "name": "python3"
  },
  "language_info": {
   "codemirror_mode": {
    "name": "ipython",
    "version": 3
   },
   "file_extension": ".py",
   "mimetype": "text/x-python",
   "name": "python",
   "nbconvert_exporter": "python",
   "pygments_lexer": "ipython3",
   "version": "3.7.1"
  }
 },
 "nbformat": 4,
 "nbformat_minor": 2
}
